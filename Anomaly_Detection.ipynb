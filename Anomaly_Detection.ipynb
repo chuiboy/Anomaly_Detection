{
 "cells": [
  {
   "cell_type": "markdown",
   "metadata": {
    "collapsed": true
   },
   "source": [
    "### Machine Learning: Anomaly Detection\n",
    "___\n",
    "\n",
    "#### Summary:\n",
    "\n",
    "Anomaly detection is a useful algorithm when you don't have much data on anomalies. What it does is it takes the examples and constructs a distribution from it. Any new example that falls far from the center of the distribution is considered an anomaly. How far? That can be determined by using a labelled validation set. It is okay to have an unlabelled training set since anomalies won't affect the distribution much. \n",
    "___\n",
    "#### This notebook will include:\n",
    "1. Anomaly Detection\n",
    "___\n",
    "#### Reference: \n",
    "\n",
    "Much of what is in this notebook was learned from the Machine Learning Coursera course by Andrew Ng."
   ]
  },
  {
   "cell_type": "code",
   "execution_count": 2,
   "metadata": {
    "collapsed": false
   },
   "outputs": [
    {
     "name": "stdout",
     "output_type": "stream",
     "text": [
      "X_train: (13, 2)\n",
      "X_val: (4, 2)\n",
      "X_test: (4, 2)\n",
      "y_val: (4,)\n"
     ]
    },
    {
     "data": {
      "image/png": "[encoded data removed]",
      "text/plain": [
       "<matplotlib.figure.Figure at 0xeeabf28>"
      ]
     },
     "metadata": {},
     "output_type": "display_data"
    }
   ],
   "source": [
    "# Example Dataset\n",
    "\"\"\"\n",
    "The dataset used contains 13 training examples, 4 validation examples and 4 test examples. Each example\n",
    "contains 2 features and only the validation examples are labelled.\n",
    "\"\"\"\n",
    "# Importing the libraries\n",
    "import numpy as np\n",
    "import matplotlib.pyplot as plt\n",
    "%matplotlib inline\n",
    "\n",
    "# Creating the dataset\n",
    "X_train = np.array([[0,0],[0.1,-0.3],[0.2,0.1],[0.2,-0.2],[0.3,0.2],[0.3,0.6],[0.4,0],\n",
    "                    [0.4,-0.3],[0.5,-0.1],[0.5,0.3],[0.6,0],[-3,4],[0,5]])\n",
    "X_val = np.array([[0.2,0.1],[0.3,-0.1],[0.4,0.5],[-2,3]])\n",
    "y_val = np.array([0,0,0,1])\n",
    "X_test = np.array([[0.1,0.2],[0.3,0.1],[0.5,-0.3],[2.5,2]])\n",
    "\n",
    "# Printing the dataset shape\n",
    "print('X_train:', X_train.shape)\n",
    "print('X_val:', X_val.shape)\n",
    "print('X_test:', X_test.shape)\n",
    "print('y_val:', y_val.shape)\n",
    "\n",
    "# Plotting the dataset\n",
    "plt.plot(X_train[:,0], X_train[:,1], 'ro', label = 'training example')\n",
    "plt.plot(X_val[:,0], X_val[:,1], 'bo', label = 'validation example')\n",
    "plt.plot(X_test[:,0], X_test[:,1], 'go', label = 'test example')\n",
    "plt.title('Dataset')\n",
    "plt.ylabel('X2')\n",
    "plt.xlabel('X1')\n",
    "plt.legend()"
   ]
  },
  {
   "cell_type": "code",
   "execution_count": 20,
   "metadata": {
    "collapsed": false
   },
   "outputs": [
    {
     "name": "stdout",
     "output_type": "stream",
     "text": [
      "Optimal epsilon: 0.01194475761\n",
      "F1 score on the validation set: 1.0\n"
     ]
    },
    {
     "name": "stderr",
     "output_type": "stream",
     "text": [
      "C:\\Users\\Marvin\\Anaconda3\\lib\\site-packages\\ipykernel\\__main__.py:37: RuntimeWarning: invalid value encountered in long_scalars\n"
     ]
    }
   ],
   "source": [
    "# Anomaly Detection\n",
    "\"\"\"\n",
    "In this section we implement an algorithm that is able to detect anomalies.\n",
    "\"\"\"\n",
    "# Importing the libraries\n",
    "import numpy as np\n",
    "    \n",
    "# Reshaping y to be a column vector for convenience\n",
    "y_val = y_val.reshape(-1,1)\n",
    "    \n",
    "# Calculating the mean and covariance of the training set\n",
    "mu = np.mean(X_train, axis=0)\n",
    "covariance = np.cov(np.transpose(X_train))\n",
    "    \n",
    "# Defining a function that returns the probability of X given a Gaussian distribution on the training set\n",
    "def Multivariate_Gaussian(X, mu, covariance):\n",
    "    prob = np.zeros((X.shape[0], 1))\n",
    "    for i in range (X.shape[0]):\n",
    "        prob[i] = (2*np.pi)**(-X.shape[1]/2) * np.linalg.det(covariance)**(-0.5)*np.exp\\\n",
    "        (-0.5*np.matmul(np.matmul((X[i, :]-mu),np.linalg.pinv(covariance)), np.transpose(X[i, :]-mu)))\n",
    "    return prob\n",
    "    \n",
    "# Calculating the probability of the validation set\n",
    "prob_val = Multivariate_Gaussian(X_val, mu, covariance)\n",
    "    \n",
    "# Finding the optimal threshold epsilon using the validation set (predict anomaly if prob < epsilon)\n",
    "epsilon_optimal = 0\n",
    "F1_optimal = 0\n",
    "\n",
    "stepsize = (np.max(prob_val) - np.min(prob_val)) / 1000\n",
    "for epsilon in np.arange(np.min(prob_val), np.max(prob_val), stepsize): \n",
    "    predictions = prob_val < epsilon\n",
    "        \n",
    "    # Calculating the F1 score\n",
    "    fp = np.sum((predictions == 1) * (y_val == 0))\n",
    "    tp = np.sum((predictions == 1) * (y_val == 1))\n",
    "    fn = np.sum((predictions == 0) * (y_val == 1))\n",
    "    precision = tp / (tp + fp)\n",
    "    recall = tp / (tp + fn)\n",
    "    F1 = (2 * precision * recall) / (precision + recall)\n",
    "        \n",
    "    # Storing the optimal threshold epsilon\n",
    "    if F1 > F1_optimal:\n",
    "        F1_optimal = F1\n",
    "        epsilon_optimal = epsilon\n",
    "            \n",
    "print('Optimal epsilon:', epsilon_optimal)\n",
    "print('F1 score on the validation set:', F1_optimal)\n"
   ]
  },
  {
   "cell_type": "code",
   "execution_count": 25,
   "metadata": {
    "collapsed": false
   },
   "outputs": [
    {
     "name": "stdout",
     "output_type": "stream",
     "text": [
      "Number of anomalies in the training set: 2\n",
      "Number of anomalies in the test set: 1\n",
      "Anomalies in the test set: [0 0 0 1]\n",
      "[[-1  2]] is not an anomaly.\n"
     ]
    }
   ],
   "source": [
    "# Predicting anomalies\n",
    "\"\"\"\n",
    "Now that we have the optimal epsilon value, which is the threshold used when determining if an example\n",
    "is an anomaly or not, we can predict if any new example is an anomaly or not.\n",
    "\"\"\"\n",
    "# Calculating the probability of the training set\n",
    "prob_train = Multivariate_Gaussian(X_train, mu, covariance)\n",
    "\n",
    "# Printing the number of anomalies in the training set\n",
    "print('Number of anomalies in the training set:', np.sum(prob_train < epsilon_optimal))\n",
    "\n",
    "# Calculating the probability of the test set\n",
    "prob_test = Multivariate_Gaussian(X_test, mu, covariance)\n",
    "\n",
    "# Printing the number of anomalies in the training set\n",
    "print('Number of anomalies in the test set:', np.sum(prob_test < epsilon_optimal))\n",
    "\n",
    "# Finding which examples in the test set are anomalies\n",
    "print('Anomalies in the test set:', (prob_test < epsilon_optimal).astype(int).ravel())\n",
    "\n",
    "X_sample = np.array([[-1, 2]])\n",
    "# Calculating the probability of a new example\n",
    "prob_sample = Multivariate_Gaussian(X_sample, mu, covariance)\n",
    "\n",
    "# Predicting if the example is an anomaly\n",
    "if (prob_sample < epsilon_optimal) == True:\n",
    "    print(X_sample,'is an anomaly.')\n",
    "else:\n",
    "    print(X_sample,'is not an anomaly.')\n"
   ]
  },
  {
   "cell_type": "code",
   "execution_count": 35,
   "metadata": {
    "collapsed": false
   },
   "outputs": [
    {
     "data": {
      "image/png": "[encoded data removed]",
      "text/plain": [
       "<matplotlib.figure.Figure at 0x120c9da0>"
      ]
     },
     "metadata": {},
     "output_type": "display_data"
    }
   ],
   "source": [
    "# Visualizing the anomaly detection boundary\n",
    "\"\"\"\n",
    "A good way to understand how the anomaly detection algorithm works is to visualize the boundary that\n",
    "separates anomalies from non-anomalies.\n",
    "\"\"\"\n",
    "# Combining the training, validation and test set into one dataset\n",
    "X = np.concatenate([X_train, X_val, X_test])\n",
    "\n",
    "# Plotting the anomaly detection boundary\n",
    "from matplotlib.colors import ListedColormap\n",
    "plt.plot(X_train[:,0], X_train[:,1], 'ro', label = 'training example')\n",
    "plt.plot(X_val[:,0], X_val[:,1], 'bo', label = 'validation example')\n",
    "plt.plot(X_test[:,0], X_test[:,1], 'go', label = 'test example')\n",
    "X_grid_1 = np.linspace(min(X[:,0])-1, max(X[:,0])+1, 1000)\n",
    "X_grid_2 = np.linspace(min(X[:,1])-1, max(X[:,1])+1, 1000)\n",
    "X_grid_1, X_grid_2 = np.meshgrid(X_grid_1, X_grid_2)\n",
    "y_grid = Multivariate_Gaussian(np.c_[X_grid_1.ravel(), X_grid_2.ravel()], \n",
    "                               mu, covariance) < epsilon_optimal\n",
    "\n",
    "plt.contourf(X_grid_1, X_grid_2, y_grid.reshape(X_grid_1.shape), \n",
    "             alpha = 0.2, cmap = ListedColormap(('red', 'blue')))\n",
    "plt.title('Anomaly Detection Boundary')\n",
    "plt.xlabel('X1')\n",
    "plt.ylabel('X2')\n",
    "plt.legend()"
   ]
  }
 ],
 "metadata": {
  "kernelspec": {
   "display_name": "Python 3",
   "language": "python",
   "name": "python3"
  },
  "language_info": {
   "codemirror_mode": {
    "name": "ipython",
    "version": 3
   },
   "file_extension": ".py",
   "mimetype": "text/x-python",
   "name": "python",
   "nbconvert_exporter": "python",
   "pygments_lexer": "ipython3",
   "version": "3.5.4"
  }
 },
 "nbformat": 4,
 "nbformat_minor": 0
}
